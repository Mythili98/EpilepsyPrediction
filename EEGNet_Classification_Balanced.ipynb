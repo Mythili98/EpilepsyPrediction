{
 "cells": [
  {
   "cell_type": "code",
   "execution_count": 3,
   "metadata": {},
   "outputs": [],
   "source": [
    "import pandas as pd\n",
    "from scipy.io import loadmat\n",
    "import h5py\n",
    "import numpy as np\n",
    "import torch\n",
    "import torch.nn as nn\n",
    "from torcheeg.models import EEGNet\n",
    "import matplotlib.pyplot as plt\n",
    "from sklearn.model_selection import LeaveOneOut"
   ]
  },
  {
   "cell_type": "code",
   "execution_count": 4,
   "metadata": {},
   "outputs": [],
   "source": [
    "class SoftDiceLoss(nn.Module):\n",
    "    '''\n",
    "    soft-dice loss, useful in binary segmentation\n",
    "    '''\n",
    "    def __init__(self,\n",
    "                 p=1,\n",
    "                 smooth=1):\n",
    "        super(SoftDiceLoss, self).__init__()\n",
    "        self.p = p\n",
    "        self.smooth = smooth\n",
    "\n",
    "    def forward(self, logits, labels):\n",
    "        '''\n",
    "        inputs:\n",
    "            logits: tensor of shape (N, H, W, ...)\n",
    "            label: tensor of shape(N, H, W, ...)\n",
    "        output:\n",
    "            loss: tensor of shape(1, )\n",
    "        '''\n",
    "        probs = logits\n",
    "        numer = (probs * labels).sum()\n",
    "        denor = (probs.pow(self.p) + labels.pow(self.p)).sum()\n",
    "        loss = 1. - (2 * numer + self.smooth) / (denor + self.smooth)\n",
    "        return loss"
   ]
  },
  {
   "cell_type": "code",
   "execution_count": 5,
   "metadata": {},
   "outputs": [],
   "source": [
    "d = h5py.File('/home/desktop/Desktop/22104412_Docs/MiceEpilepsy/ProcessedData_CHBMIT/raw_segmented/final_data_chb12.mat','r')"
   ]
  },
  {
   "cell_type": "code",
   "execution_count": 6,
   "metadata": {},
   "outputs": [
    {
     "name": "stdout",
     "output_type": "stream",
     "text": [
      "(3606, 18, 256) chb12_06_edf\n",
      "(3600, 18, 256) chb12_08_edf\n",
      "(3612, 18, 256) chb12_09_edf\n",
      "(3611, 18, 256) chb12_10_edf\n",
      "(2431, 18, 256) chb12_11_edf\n",
      "(3600, 18, 256) chb12_19_edf\n",
      "(3600, 18, 256) chb12_20_edf\n",
      "(3600, 18, 256) chb12_21_edf\n",
      "(3600, 18, 256) chb12_23_edf\n",
      "(3600, 18, 256) chb12_24_edf\n",
      "(3600, 18, 256) chb12_27_edf\n",
      "(3600, 18, 256) chb12_28_edf\n",
      "(3624, 18, 256) chb12_29_edf\n",
      "(3600, 18, 256) chb12_32_edf\n",
      "(3600, 18, 256) chb12_33_edf\n",
      "(3600, 18, 256) chb12_34_edf\n",
      "(3600, 18, 256) chb12_35_edf\n",
      "(3600, 18, 256) chb12_36_edf\n",
      "(3616, 18, 256) chb12_37_edf\n",
      "(3600, 18, 256) chb12_38_edf\n",
      "(3600, 18, 256) chb12_39_edf\n",
      "(3600, 18, 256) chb12_40_edf\n",
      "(3600, 18, 256) chb12_41_edf\n",
      "(3600, 18, 256) chb12_42_edf\n",
      "85300\n"
     ]
    }
   ],
   "source": [
    "final_data = {}\n",
    "r = 0\n",
    "for k,v in d['final_data'].items():\n",
    "    f_d = []\n",
    "    x = d['final_data'][k]['data']\n",
    "    for i in range(x.shape[2]):\n",
    "        f_d.append(x[:,:,i].transpose())\n",
    "    f_d = np.array(f_d)\n",
    "    r = r+f_d.shape[0]\n",
    "    final_data[k] = f_d\n",
    "    print(f_d.shape,k)\n",
    "print(r)"
   ]
  },
  {
   "cell_type": "code",
   "execution_count": 7,
   "metadata": {},
   "outputs": [],
   "source": [
    "labels = pd.read_csv('./ProcessedData_CHBMIT/labels/labels_chb04.csv')"
   ]
  },
  {
   "cell_type": "code",
   "execution_count": 8,
   "metadata": {},
   "outputs": [],
   "source": [
    "val = []\n",
    "for i in range(len(labels)):\n",
    "    val.append(int(list(labels['File_names'])[i].split('.')[0][6:8]))"
   ]
  },
  {
   "cell_type": "code",
   "execution_count": 9,
   "metadata": {},
   "outputs": [],
   "source": [
    "val = np.array(val)"
   ]
  },
  {
   "cell_type": "code",
   "execution_count": 10,
   "metadata": {},
   "outputs": [
    {
     "name": "stdout",
     "output_type": "stream",
     "text": [
      "6\n",
      "[5]\n",
      "8\n",
      "[7]\n",
      "7 6446 6557\n",
      "9\n",
      "[8]\n",
      "10\n",
      "[9]\n",
      "11\n",
      "[10]\n",
      "19\n",
      "[18]\n",
      "20\n",
      "[]\n",
      "21\n",
      "[19]\n",
      "23\n",
      "[21]\n",
      "24\n",
      "[22]\n",
      "27\n",
      "[25]\n",
      "28\n",
      "[26 27]\n",
      "26 1679 1781\n",
      "27 3782 3898\n",
      "29\n",
      "[28]\n",
      "32\n",
      "[31]\n",
      "33\n",
      "[32]\n",
      "34\n",
      "[33]\n",
      "35\n",
      "[34]\n",
      "36\n",
      "[35]\n",
      "37\n",
      "[36]\n",
      "38\n",
      "[37]\n",
      "39\n",
      "[38]\n",
      "40\n",
      "[39]\n",
      "41\n",
      "[40]\n",
      "42\n",
      "[41]\n"
     ]
    }
   ],
   "source": [
    "l = {}\n",
    "for k,v in final_data.items():\n",
    "    flab = np.zeros((v.shape[0],1))\n",
    "    fname = int(list(k.split('_'))[1])\n",
    "    print(fname)\n",
    "    ind = np.where(val == fname)[0]\n",
    "    print(ind)\n",
    "    for j in ind:\n",
    "        if labels.iloc[j]['Labels']:\n",
    "            start = labels.iloc[j]['Start_time']\n",
    "            end = labels.iloc[j]['End_time']\n",
    "            print(j,start,end)\n",
    "            flab[start:end] = 1\n",
    "    l[k] = flab"
   ]
  },
  {
   "cell_type": "code",
   "execution_count": 17,
   "metadata": {},
   "outputs": [
    {
     "data": {
      "text/plain": [
       "(3606, 18, 256)"
      ]
     },
     "execution_count": 17,
     "metadata": {},
     "output_type": "execute_result"
    }
   ],
   "source": [
    "x = list(final_data.values())\n",
    "x[0].shape"
   ]
  },
  {
   "cell_type": "code",
   "execution_count": 23,
   "metadata": {},
   "outputs": [
    {
     "data": {
      "image/png": "[encoded data removed]",
      "text/plain": [
       "<Figure size 2500x1500 with 24 Axes>"
      ]
     },
     "metadata": {},
     "output_type": "display_data"
    }
   ],
   "source": [
    "fig, axs = plt.subplots(6, 4, figsize=(25, 15), sharex=True)\n",
    "for i,ax in enumerate(axs.flatten()):\n",
    "    ax.plot(list(l.values())[i])\n",
    "    ax.set_xlabel('Time')\n",
    "    ax.set_ylabel('Label')\n",
    "plt.show()"
   ]
  },
  {
   "cell_type": "code",
   "execution_count": 12,
   "metadata": {},
   "outputs": [],
   "source": [
    "def sampling(x,y):\n",
    "    number_1 = np.where(y == 1)[0]\n",
    "    number_0 = np.where(y==0)[0]\n",
    "    x_0 = x[number_0]\n",
    "    x_0 = x_0[np.random.choice(x_0.shape[0], size=10*len(number_1), replace=False)]\n",
    "    x_1 = x[number_1]\n",
    "    x = np.concatenate((x_0,x_1))\n",
    "    y_0 = np.zeros((x_0.shape[0],1))\n",
    "    y_1 = np.ones((x_1.shape[0],1))\n",
    "    y = np.concatenate((y_0,y_1))\n",
    "    return x,y"
   ]
  },
  {
   "cell_type": "code",
   "execution_count": 13,
   "metadata": {},
   "outputs": [],
   "source": [
    "import torch.nn.functional as F\n",
    "from sklearn.metrics import f1_score\n",
    "\n",
    "class FocalLoss(nn.Module):\n",
    "    def __init__(self, alpha=1, gamma=5, reduction='mean'):\n",
    "        \"\"\"\n",
    "        :param alpha: Weighting factor for the class, default is 1\n",
    "        :param gamma: Focusing parameter, default is 2\n",
    "        :param reduction: Reduction method to apply ('none', 'mean', 'sum')\n",
    "        \"\"\"\n",
    "        super(FocalLoss, self).__init__()\n",
    "        self.alpha = alpha\n",
    "        self.gamma = gamma\n",
    "        self.reduction = reduction\n",
    "\n",
    "    def forward(self, inputs, targets):\n",
    "        loss = nn.CrossEntropyLoss()\n",
    "        BCE_loss = loss(inputs, targets)\n",
    "        pt = torch.exp(-BCE_loss)  # prevents nans when probability is 0\n",
    "        F_loss = self.alpha * (1-pt)**self.gamma * BCE_loss\n",
    "\n",
    "        if self.reduction == 'mean':\n",
    "            return F_loss.mean()\n",
    "        elif self.reduction == 'sum':\n",
    "            return F_loss.sum()\n",
    "        else:\n",
    "            return F_loss\n",
    "\n",
    "# Example usage:\n",
    "# criterion = FocalLoss()\n",
    "# loss = criterion(predictions, targets)\n"
   ]
  },
  {
   "cell_type": "code",
   "execution_count": 14,
   "metadata": {},
   "outputs": [],
   "source": [
    "def focal_loss(labels, logits, alpha, gamma):\n",
    "    \"\"\"Compute the focal loss between `logits` and the ground truth `labels`.\n",
    "\n",
    "    Focal loss = -alpha_t * (1-pt)^gamma * log(pt)\n",
    "    where pt is the probability of being classified to the true class  \n",
    "    \n",
    "  \n",
    "    pt = p (if true class), otherwise pt = 1 - p. p = sigmoid(logit).\n",
    "\n",
    "    Args:\n",
    "      labels: A float tensor of size [batch, num_classes].\n",
    "      logits: A float tensor of size [batch, num_classes].\n",
    "      alpha: A float tensor of size [batch_size]\n",
    "        specifying per-example weight for balanced cross entropy.\n",
    "      gamma: A float scalar modulating loss from hard and easy examples.\n",
    "\n",
    "    Returns:\n",
    "      focal_loss: A float32 scalar representing normalized total loss.\n",
    "    \"\"\"    \n",
    "    BCLoss = F.binary_cross_entropy_with_logits(input = logits, target = labels,reduction = \"none\")\n",
    "\n",
    "    if gamma == 0.0:\n",
    "        modulator = 1.0\n",
    "    else:\n",
    "        modulator = torch.exp(-gamma * labels * logits - gamma * torch.log(1 + \n",
    "            torch.exp(-1.0 * logits)))\n",
    "\n",
    "    loss = modulator * BCLoss\n",
    "\n",
    "    weighted_loss = alpha * loss\n",
    "    focal_loss = torch.sum(weighted_loss)\n",
    "\n",
    "    focal_loss /= torch.sum(labels)\n",
    "    return focal_loss\n",
    "\n",
    "def CB_loss(labels, logits, samples_per_cls, no_of_classes, loss_type, beta, gamma):\n",
    "    \"\"\"Compute the Class Balanced Loss between `logits` and the ground truth `labels`.\n",
    "\n",
    "    Class Balanced Loss: ((1-beta)/(1-beta^n))*Loss(labels, logits)\n",
    "    where Loss is one of the standard losses used for Neural Networks.\n",
    "\n",
    "    Args:\n",
    "      labels: A int tensor of size [batch].\n",
    "      logits: A float tensor of size [batch, no_of_classes].\n",
    "      samples_per_cls: A python list of size [no_of_classes].\n",
    "      no_of_classes: total number of classes. int\n",
    "      loss_type: string. One of \"sigmoid\", \"focal\", \"softmax\".\n",
    "      beta: float. Hyperparameter for Class balanced loss.\n",
    "      gamma: float. Hyperparameter for Focal loss.\n",
    "\n",
    "    Returns:\n",
    "      cb_loss: A float tensor representing class balanced loss\n",
    "    \"\"\"\n",
    "    effective_num = 1.0 - np.power(beta, samples_per_cls)\n",
    "    weights = (1.0 - beta) / np.array(effective_num)\n",
    "    weights = weights / np.sum(weights) * no_of_classes\n",
    "\n",
    "    labels_one_hot = labels.float()\n",
    "\n",
    "    weights = torch.tensor(weights).float()\n",
    "    weights = weights.unsqueeze(0)\n",
    "    weights = weights.cuda()\n",
    "    weights = weights.repeat(labels_one_hot.shape[0],1) * labels_one_hot\n",
    "    weights = weights.sum(1)\n",
    "    weights = weights.unsqueeze(1)\n",
    "    weights = weights.repeat(1,no_of_classes)\n",
    "\n",
    "    if loss_type == \"focal\":\n",
    "        cb_loss = focal_loss(labels_one_hot, logits, weights, gamma)\n",
    "    elif loss_type == \"sigmoid\":\n",
    "        cb_loss = F.binary_cross_entropy_with_logits(input = logits,target = labels_one_hot, weights = weights)\n",
    "    elif loss_type == \"softmax\":\n",
    "        pred = logits.softmax(dim = 1)\n",
    "        cb_loss = F.binary_cross_entropy(input = pred, target = labels_one_hot, weight = weights)\n",
    "    return cb_loss\n"
   ]
  },
  {
   "cell_type": "code",
   "execution_count": 15,
   "metadata": {},
   "outputs": [],
   "source": [
    "from torch.utils.data import Dataset, DataLoader\n",
    "from tqdm import tqdm\n",
    "from torch import nn\n",
    "\n",
    "def get_catvalues(y_train,y_test):\n",
    "    ytr = np.zeros((y_train.shape[0],2))\n",
    "    yte = np.zeros((y_test.shape[0],2))\n",
    "    ytr[np.where(y_train[:,0] == 1)] = [0,1]\n",
    "    ytr[np.where(y_train[:,0] == 0)] = [1,0]\n",
    "    yte[np.where(y_test[:,0] == 1)] = [0,1]\n",
    "    yte[np.where(y_test[:,0] == 0)] = [1,0]\n",
    "    samples = [np.where(y_train[:,0]==0)[0].shape[0],np.where(y_train[:,0]==1)[0].shape[0]]\n",
    "    return ytr,yte, samples\n",
    "\n",
    "class Dataset(Dataset):\n",
    "        def __init__(self, data, info):\n",
    "            #data loading\\n\",\n",
    "            self.x = data\n",
    "            self.y = info\n",
    "            self.n_samples = data.shape[0]\n",
    "    \n",
    "        def __getitem__(self,index):\n",
    "            t1 = self.x[index]\n",
    "            t2 = self.y[index]\n",
    "            t1 = torch.tensor(t1)\n",
    "            t1 = t1.unsqueeze(0)\n",
    "            t2 = torch.tensor(t2)\n",
    "            return (t1,t2)\n",
    "        \n",
    "        def __len__(self):\n",
    "            return self.n_samples\n",
    "\n",
    "X = list(final_data.values())\n",
    "y = list(l.values())\n",
    "\n",
    "\n",
    "loo = LeaveOneOut()\n",
    "trainLoss = {}\n",
    "valLoss = {}\n",
    "trainAcc = {}\n",
    "valAcc = {}\n",
    "loo.get_n_splits(X)\n",
    "device = torch.device(\"cuda\" if torch.cuda.is_available() else \"cpu\")"
   ]
  },
  {
   "cell_type": "code",
   "execution_count": 16,
   "metadata": {},
   "outputs": [
    {
     "name": "stdout",
     "output_type": "stream",
     "text": [
      "Fold 0:\n",
      "Pre Sampling :  (81694, 18, 256) (3606, 18, 256) (81694, 1) (3606, 1)\n",
      "Post Sampling :  (1122, 18, 256) (3606, 18, 256) (1122, 1) (3606, 1)\n",
      "Post Categorical :  (1122, 18, 256) (3606, 18, 256) (1122, 2) (3606, 2)\n"
     ]
    },
    {
     "name": "stderr",
     "output_type": "stream",
     "text": [
      "  0%|          | 0/23 [00:01<?, ?batch/s]\n"
     ]
    },
    {
     "ename": "KeyboardInterrupt",
     "evalue": "",
     "output_type": "error",
     "traceback": [
      "\u001b[0;31m---------------------------------------------------------------------------\u001b[0m",
      "\u001b[0;31mKeyboardInterrupt\u001b[0m                         Traceback (most recent call last)",
      "Cell \u001b[0;32mIn[16], line 47\u001b[0m\n\u001b[1;32m     45\u001b[0m lab \u001b[38;5;241m=\u001b[39m lab\u001b[38;5;241m.\u001b[39mto(device)\n\u001b[1;32m     46\u001b[0m optimizer_ft\u001b[38;5;241m.\u001b[39mzero_grad()\n\u001b[0;32m---> 47\u001b[0m outputs \u001b[38;5;241m=\u001b[39m (\u001b[43mmodel\u001b[49m\u001b[43m(\u001b[49m\u001b[43mimagest\u001b[49m\u001b[38;5;241;43m.\u001b[39;49m\u001b[43mfloat\u001b[49m\u001b[43m(\u001b[49m\u001b[43m)\u001b[49m\u001b[43m)\u001b[49m)\n\u001b[1;32m     48\u001b[0m _,predindex \u001b[38;5;241m=\u001b[39m torch\u001b[38;5;241m.\u001b[39mmax(outputs, dim \u001b[38;5;241m=\u001b[39m \u001b[38;5;241m1\u001b[39m)\n\u001b[1;32m     49\u001b[0m _,labindex \u001b[38;5;241m=\u001b[39m torch\u001b[38;5;241m.\u001b[39mmax(lab, dim \u001b[38;5;241m=\u001b[39m \u001b[38;5;241m1\u001b[39m)\n",
      "File \u001b[0;32m~/.local/lib/python3.10/site-packages/torch/nn/modules/module.py:1501\u001b[0m, in \u001b[0;36mModule._call_impl\u001b[0;34m(self, *args, **kwargs)\u001b[0m\n\u001b[1;32m   1496\u001b[0m \u001b[38;5;66;03m# If we don't have any hooks, we want to skip the rest of the logic in\u001b[39;00m\n\u001b[1;32m   1497\u001b[0m \u001b[38;5;66;03m# this function, and just call forward.\u001b[39;00m\n\u001b[1;32m   1498\u001b[0m \u001b[38;5;28;01mif\u001b[39;00m \u001b[38;5;129;01mnot\u001b[39;00m (\u001b[38;5;28mself\u001b[39m\u001b[38;5;241m.\u001b[39m_backward_hooks \u001b[38;5;129;01mor\u001b[39;00m \u001b[38;5;28mself\u001b[39m\u001b[38;5;241m.\u001b[39m_backward_pre_hooks \u001b[38;5;129;01mor\u001b[39;00m \u001b[38;5;28mself\u001b[39m\u001b[38;5;241m.\u001b[39m_forward_hooks \u001b[38;5;129;01mor\u001b[39;00m \u001b[38;5;28mself\u001b[39m\u001b[38;5;241m.\u001b[39m_forward_pre_hooks\n\u001b[1;32m   1499\u001b[0m         \u001b[38;5;129;01mor\u001b[39;00m _global_backward_pre_hooks \u001b[38;5;129;01mor\u001b[39;00m _global_backward_hooks\n\u001b[1;32m   1500\u001b[0m         \u001b[38;5;129;01mor\u001b[39;00m _global_forward_hooks \u001b[38;5;129;01mor\u001b[39;00m _global_forward_pre_hooks):\n\u001b[0;32m-> 1501\u001b[0m     \u001b[38;5;28;01mreturn\u001b[39;00m \u001b[43mforward_call\u001b[49m\u001b[43m(\u001b[49m\u001b[38;5;241;43m*\u001b[39;49m\u001b[43margs\u001b[49m\u001b[43m,\u001b[49m\u001b[43m \u001b[49m\u001b[38;5;241;43m*\u001b[39;49m\u001b[38;5;241;43m*\u001b[39;49m\u001b[43mkwargs\u001b[49m\u001b[43m)\u001b[49m\n\u001b[1;32m   1502\u001b[0m \u001b[38;5;66;03m# Do not call functions when jit is used\u001b[39;00m\n\u001b[1;32m   1503\u001b[0m full_backward_hooks, non_full_backward_hooks \u001b[38;5;241m=\u001b[39m [], []\n",
      "File \u001b[0;32m~/anaconda3/envs/eegtransforms/lib/python3.10/site-packages/torcheeg/models/cnn/eegnet.py:121\u001b[0m, in \u001b[0;36mEEGNet.forward\u001b[0;34m(self, x)\u001b[0m\n\u001b[1;32m    113\u001b[0m \u001b[38;5;28;01mdef\u001b[39;00m \u001b[38;5;21mforward\u001b[39m(\u001b[38;5;28mself\u001b[39m, x: torch\u001b[38;5;241m.\u001b[39mTensor) \u001b[38;5;241m-\u001b[39m\u001b[38;5;241m>\u001b[39m torch\u001b[38;5;241m.\u001b[39mTensor:\n\u001b[1;32m    114\u001b[0m \u001b[38;5;250m    \u001b[39m\u001b[38;5;124mr\u001b[39m\u001b[38;5;124;03m'''\u001b[39;00m\n\u001b[1;32m    115\u001b[0m \u001b[38;5;124;03m    Args:\u001b[39;00m\n\u001b[1;32m    116\u001b[0m \u001b[38;5;124;03m        x (torch.Tensor): EEG signal representation, the ideal input shape is :obj:`[n, 60, 151]`. Here, :obj:`n` corresponds to the batch size, :obj:`60` corresponds to :obj:`num_electrodes`, and :obj:`151` corresponds to :obj:`chunk_size`.\u001b[39;00m\n\u001b[0;32m   (...)\u001b[0m\n\u001b[1;32m    119\u001b[0m \u001b[38;5;124;03m        torch.Tensor[number of sample, number of classes]: the predicted probability that the samples belong to the classes.\u001b[39;00m\n\u001b[1;32m    120\u001b[0m \u001b[38;5;124;03m    '''\u001b[39;00m\n\u001b[0;32m--> 121\u001b[0m     x \u001b[38;5;241m=\u001b[39m \u001b[38;5;28;43mself\u001b[39;49m\u001b[38;5;241;43m.\u001b[39;49m\u001b[43mblock1\u001b[49m\u001b[43m(\u001b[49m\u001b[43mx\u001b[49m\u001b[43m)\u001b[49m\n\u001b[1;32m    122\u001b[0m     x \u001b[38;5;241m=\u001b[39m \u001b[38;5;28mself\u001b[39m\u001b[38;5;241m.\u001b[39mblock2(x)\n\u001b[1;32m    123\u001b[0m     x \u001b[38;5;241m=\u001b[39m x\u001b[38;5;241m.\u001b[39mflatten(start_dim\u001b[38;5;241m=\u001b[39m\u001b[38;5;241m1\u001b[39m)\n",
      "File \u001b[0;32m~/.local/lib/python3.10/site-packages/torch/nn/modules/module.py:1501\u001b[0m, in \u001b[0;36mModule._call_impl\u001b[0;34m(self, *args, **kwargs)\u001b[0m\n\u001b[1;32m   1496\u001b[0m \u001b[38;5;66;03m# If we don't have any hooks, we want to skip the rest of the logic in\u001b[39;00m\n\u001b[1;32m   1497\u001b[0m \u001b[38;5;66;03m# this function, and just call forward.\u001b[39;00m\n\u001b[1;32m   1498\u001b[0m \u001b[38;5;28;01mif\u001b[39;00m \u001b[38;5;129;01mnot\u001b[39;00m (\u001b[38;5;28mself\u001b[39m\u001b[38;5;241m.\u001b[39m_backward_hooks \u001b[38;5;129;01mor\u001b[39;00m \u001b[38;5;28mself\u001b[39m\u001b[38;5;241m.\u001b[39m_backward_pre_hooks \u001b[38;5;129;01mor\u001b[39;00m \u001b[38;5;28mself\u001b[39m\u001b[38;5;241m.\u001b[39m_forward_hooks \u001b[38;5;129;01mor\u001b[39;00m \u001b[38;5;28mself\u001b[39m\u001b[38;5;241m.\u001b[39m_forward_pre_hooks\n\u001b[1;32m   1499\u001b[0m         \u001b[38;5;129;01mor\u001b[39;00m _global_backward_pre_hooks \u001b[38;5;129;01mor\u001b[39;00m _global_backward_hooks\n\u001b[1;32m   1500\u001b[0m         \u001b[38;5;129;01mor\u001b[39;00m _global_forward_hooks \u001b[38;5;129;01mor\u001b[39;00m _global_forward_pre_hooks):\n\u001b[0;32m-> 1501\u001b[0m     \u001b[38;5;28;01mreturn\u001b[39;00m \u001b[43mforward_call\u001b[49m\u001b[43m(\u001b[49m\u001b[38;5;241;43m*\u001b[39;49m\u001b[43margs\u001b[49m\u001b[43m,\u001b[49m\u001b[43m \u001b[49m\u001b[38;5;241;43m*\u001b[39;49m\u001b[38;5;241;43m*\u001b[39;49m\u001b[43mkwargs\u001b[49m\u001b[43m)\u001b[49m\n\u001b[1;32m   1502\u001b[0m \u001b[38;5;66;03m# Do not call functions when jit is used\u001b[39;00m\n\u001b[1;32m   1503\u001b[0m full_backward_hooks, non_full_backward_hooks \u001b[38;5;241m=\u001b[39m [], []\n",
      "File \u001b[0;32m~/.local/lib/python3.10/site-packages/torch/nn/modules/container.py:217\u001b[0m, in \u001b[0;36mSequential.forward\u001b[0;34m(self, input)\u001b[0m\n\u001b[1;32m    215\u001b[0m \u001b[38;5;28;01mdef\u001b[39;00m \u001b[38;5;21mforward\u001b[39m(\u001b[38;5;28mself\u001b[39m, \u001b[38;5;28minput\u001b[39m):\n\u001b[1;32m    216\u001b[0m     \u001b[38;5;28;01mfor\u001b[39;00m module \u001b[38;5;129;01min\u001b[39;00m \u001b[38;5;28mself\u001b[39m:\n\u001b[0;32m--> 217\u001b[0m         \u001b[38;5;28minput\u001b[39m \u001b[38;5;241m=\u001b[39m \u001b[43mmodule\u001b[49m\u001b[43m(\u001b[49m\u001b[38;5;28;43minput\u001b[39;49m\u001b[43m)\u001b[49m\n\u001b[1;32m    218\u001b[0m     \u001b[38;5;28;01mreturn\u001b[39;00m \u001b[38;5;28minput\u001b[39m\n",
      "File \u001b[0;32m~/.local/lib/python3.10/site-packages/torch/nn/modules/module.py:1501\u001b[0m, in \u001b[0;36mModule._call_impl\u001b[0;34m(self, *args, **kwargs)\u001b[0m\n\u001b[1;32m   1496\u001b[0m \u001b[38;5;66;03m# If we don't have any hooks, we want to skip the rest of the logic in\u001b[39;00m\n\u001b[1;32m   1497\u001b[0m \u001b[38;5;66;03m# this function, and just call forward.\u001b[39;00m\n\u001b[1;32m   1498\u001b[0m \u001b[38;5;28;01mif\u001b[39;00m \u001b[38;5;129;01mnot\u001b[39;00m (\u001b[38;5;28mself\u001b[39m\u001b[38;5;241m.\u001b[39m_backward_hooks \u001b[38;5;129;01mor\u001b[39;00m \u001b[38;5;28mself\u001b[39m\u001b[38;5;241m.\u001b[39m_backward_pre_hooks \u001b[38;5;129;01mor\u001b[39;00m \u001b[38;5;28mself\u001b[39m\u001b[38;5;241m.\u001b[39m_forward_hooks \u001b[38;5;129;01mor\u001b[39;00m \u001b[38;5;28mself\u001b[39m\u001b[38;5;241m.\u001b[39m_forward_pre_hooks\n\u001b[1;32m   1499\u001b[0m         \u001b[38;5;129;01mor\u001b[39;00m _global_backward_pre_hooks \u001b[38;5;129;01mor\u001b[39;00m _global_backward_hooks\n\u001b[1;32m   1500\u001b[0m         \u001b[38;5;129;01mor\u001b[39;00m _global_forward_hooks \u001b[38;5;129;01mor\u001b[39;00m _global_forward_pre_hooks):\n\u001b[0;32m-> 1501\u001b[0m     \u001b[38;5;28;01mreturn\u001b[39;00m \u001b[43mforward_call\u001b[49m\u001b[43m(\u001b[49m\u001b[38;5;241;43m*\u001b[39;49m\u001b[43margs\u001b[49m\u001b[43m,\u001b[49m\u001b[43m \u001b[49m\u001b[38;5;241;43m*\u001b[39;49m\u001b[38;5;241;43m*\u001b[39;49m\u001b[43mkwargs\u001b[49m\u001b[43m)\u001b[49m\n\u001b[1;32m   1502\u001b[0m \u001b[38;5;66;03m# Do not call functions when jit is used\u001b[39;00m\n\u001b[1;32m   1503\u001b[0m full_backward_hooks, non_full_backward_hooks \u001b[38;5;241m=\u001b[39m [], []\n",
      "File \u001b[0;32m~/.local/lib/python3.10/site-packages/torch/nn/modules/conv.py:463\u001b[0m, in \u001b[0;36mConv2d.forward\u001b[0;34m(self, input)\u001b[0m\n\u001b[1;32m    462\u001b[0m \u001b[38;5;28;01mdef\u001b[39;00m \u001b[38;5;21mforward\u001b[39m(\u001b[38;5;28mself\u001b[39m, \u001b[38;5;28minput\u001b[39m: Tensor) \u001b[38;5;241m-\u001b[39m\u001b[38;5;241m>\u001b[39m Tensor:\n\u001b[0;32m--> 463\u001b[0m     \u001b[38;5;28;01mreturn\u001b[39;00m \u001b[38;5;28;43mself\u001b[39;49m\u001b[38;5;241;43m.\u001b[39;49m\u001b[43m_conv_forward\u001b[49m\u001b[43m(\u001b[49m\u001b[38;5;28;43minput\u001b[39;49m\u001b[43m,\u001b[49m\u001b[43m \u001b[49m\u001b[38;5;28;43mself\u001b[39;49m\u001b[38;5;241;43m.\u001b[39;49m\u001b[43mweight\u001b[49m\u001b[43m,\u001b[49m\u001b[43m \u001b[49m\u001b[38;5;28;43mself\u001b[39;49m\u001b[38;5;241;43m.\u001b[39;49m\u001b[43mbias\u001b[49m\u001b[43m)\u001b[49m\n",
      "File \u001b[0;32m~/.local/lib/python3.10/site-packages/torch/nn/modules/conv.py:459\u001b[0m, in \u001b[0;36mConv2d._conv_forward\u001b[0;34m(self, input, weight, bias)\u001b[0m\n\u001b[1;32m    455\u001b[0m \u001b[38;5;28;01mif\u001b[39;00m \u001b[38;5;28mself\u001b[39m\u001b[38;5;241m.\u001b[39mpadding_mode \u001b[38;5;241m!=\u001b[39m \u001b[38;5;124m'\u001b[39m\u001b[38;5;124mzeros\u001b[39m\u001b[38;5;124m'\u001b[39m:\n\u001b[1;32m    456\u001b[0m     \u001b[38;5;28;01mreturn\u001b[39;00m F\u001b[38;5;241m.\u001b[39mconv2d(F\u001b[38;5;241m.\u001b[39mpad(\u001b[38;5;28minput\u001b[39m, \u001b[38;5;28mself\u001b[39m\u001b[38;5;241m.\u001b[39m_reversed_padding_repeated_twice, mode\u001b[38;5;241m=\u001b[39m\u001b[38;5;28mself\u001b[39m\u001b[38;5;241m.\u001b[39mpadding_mode),\n\u001b[1;32m    457\u001b[0m                     weight, bias, \u001b[38;5;28mself\u001b[39m\u001b[38;5;241m.\u001b[39mstride,\n\u001b[1;32m    458\u001b[0m                     _pair(\u001b[38;5;241m0\u001b[39m), \u001b[38;5;28mself\u001b[39m\u001b[38;5;241m.\u001b[39mdilation, \u001b[38;5;28mself\u001b[39m\u001b[38;5;241m.\u001b[39mgroups)\n\u001b[0;32m--> 459\u001b[0m \u001b[38;5;28;01mreturn\u001b[39;00m \u001b[43mF\u001b[49m\u001b[38;5;241;43m.\u001b[39;49m\u001b[43mconv2d\u001b[49m\u001b[43m(\u001b[49m\u001b[38;5;28;43minput\u001b[39;49m\u001b[43m,\u001b[49m\u001b[43m \u001b[49m\u001b[43mweight\u001b[49m\u001b[43m,\u001b[49m\u001b[43m \u001b[49m\u001b[43mbias\u001b[49m\u001b[43m,\u001b[49m\u001b[43m \u001b[49m\u001b[38;5;28;43mself\u001b[39;49m\u001b[38;5;241;43m.\u001b[39;49m\u001b[43mstride\u001b[49m\u001b[43m,\u001b[49m\n\u001b[1;32m    460\u001b[0m \u001b[43m                \u001b[49m\u001b[38;5;28;43mself\u001b[39;49m\u001b[38;5;241;43m.\u001b[39;49m\u001b[43mpadding\u001b[49m\u001b[43m,\u001b[49m\u001b[43m \u001b[49m\u001b[38;5;28;43mself\u001b[39;49m\u001b[38;5;241;43m.\u001b[39;49m\u001b[43mdilation\u001b[49m\u001b[43m,\u001b[49m\u001b[43m \u001b[49m\u001b[38;5;28;43mself\u001b[39;49m\u001b[38;5;241;43m.\u001b[39;49m\u001b[43mgroups\u001b[49m\u001b[43m)\u001b[49m\n",
      "\u001b[0;31mKeyboardInterrupt\u001b[0m: "
     ]
    }
   ],
   "source": [
    "\n",
    "for i, (train_index, test_index) in enumerate(loo.split(X)):\n",
    "    print(f\"Fold {i}:\")\n",
    "    X_train = np.concatenate([X[tr_i] for tr_i in train_index])\n",
    "    # X_train = X_train.reshape(X_train.shape[0], -1)\n",
    "    X_test = X[test_index[0]]\n",
    "    # X_test = X_test.reshape(X_test.shape[0],-1)\n",
    "    y_train = np.concatenate([y[tr_i] for tr_i in train_index])\n",
    "    y_test = y[test_index[0]]\n",
    "    print('Pre Sampling : ',X_train.shape, X_test.shape, y_train.shape,y_test.shape)\n",
    "    X_train,y_train = sampling(X_train,y_train)\n",
    "    print('Post Sampling : ',X_train.shape, X_test.shape, y_train.shape,y_test.shape)\n",
    "    y_train,y_test,samples = get_catvalues(y_train,y_test)\n",
    "    print('Post Categorical : ',X_train.shape, X_test.shape, y_train.shape,y_test.shape)\n",
    "    model = EEGNet(chunk_size=256,num_electrodes=18,num_classes=2)\n",
    "    model = model.to(device)\n",
    "    hyper_lambda = 0.5\n",
    "    weights = torch.tensor([1.2, 6])\n",
    "    weights = weights.to(device)\n",
    "    criterion = FocalLoss()\n",
    "    #criterion = SoftDiceLoss()\n",
    "    tL = []\n",
    "    vL = []\n",
    "    tAV = []\n",
    "    vAV = []\n",
    "    optimizer_ft = torch.optim.Adam(model.parameters(), lr=0.001)\n",
    "    trainDS = Dataset(X_train, y_train)\n",
    "    trainDL = DataLoader(dataset = trainDS, batch_size = 50, shuffle = True)\n",
    " \n",
    "    valDS = Dataset(X_test, y_test)\n",
    "    valDL = DataLoader(dataset = valDS, batch_size = 50, shuffle = True)\n",
    "    \n",
    "    testDS = Dataset(X_test, y_test)\n",
    "    testDL = DataLoader(dataset = testDS, batch_size = 100)\n",
    "    num_epochs = 50\n",
    "    batchsize = 50\n",
    "    l2_lambda = 0.001\n",
    "    best_acc = 0\n",
    "    for epoch in range(num_epochs):\n",
    "        trainAccuracy = 0\n",
    "        totalLoss = 0\n",
    "        with tqdm(trainDL, unit='batch') as tepoch:\n",
    "            model.train()\n",
    "            for imagest,lab in tepoch:\n",
    "                imagest = imagest.to(device)\n",
    "                lab = lab.to(device)\n",
    "                optimizer_ft.zero_grad()\n",
    "                outputs = (model(imagest.float()))\n",
    "                _,predindex = torch.max(outputs, dim = 1)\n",
    "                _,labindex = torch.max(lab, dim = 1)\n",
    "                loss = CB_loss(lab.float(),outputs,samples_per_cls=samples,no_of_classes=2,loss_type='softmax',beta=0.99,gamma=2)\n",
    "                #loss = criterion(outputs,lab.float())\n",
    "                l2_reg = 0.0\n",
    "                for param in model.parameters():\n",
    "                    l2_reg += torch.norm(param, p=2) # L2 norm of the parameter\n",
    "                loss += l2_lambda * l2_reg\n",
    "                loss.backward()\n",
    "                optimizer_ft.step()\n",
    "                totalLoss+=loss.item()\n",
    "                acc = (predindex==labindex).sum().item()\n",
    "                trainAccuracy += acc/(lab.shape[0]*len(trainDL))\n",
    "                tepoch.set_postfix(loss=loss.item(),totalLoss =totalLoss/len(trainDL), TrainAccuracy= 100.*trainAccuracy)      \n",
    "            model.eval()\n",
    "            with torch.no_grad():\n",
    "                with tqdm(valDL, unit='batch') as tepoch:\n",
    "                    total = 0\n",
    "                    valAccuracy = 0\n",
    "                    val_loss = 0\n",
    "                    f1 = 0\n",
    "                    for imagesv,labv in tepoch:\n",
    "                        imagesv = imagesv.to(device)\n",
    "                        labelsv = labv.to(device)\n",
    "                        outval = (model(imagesv.float()))\n",
    "                        _,predindexval = torch.max(outval,dim = 1)\n",
    "                        _,labvalindex = torch.max(labelsv,dim = 1)\n",
    "                        acc = (predindexval == labvalindex).sum().item()\n",
    "                        valAccuracy +=acc/(labv.shape[0]*len(valDL))\n",
    "                        lossv = CB_loss(labelsv.float(),outval,samples_per_cls=samples,no_of_classes=2,loss_type='softmax',beta=0.99,gamma=2)\n",
    "                        val_loss+= lossv.item()\n",
    "                        tepoch.set_postfix(lossv=lossv.item(),valLoss =val_loss/len(valDL), ValAccuracy= 100.*valAccuracy)\n",
    "        print('Epoch [{}], Loss_t: {:.4f},Loss_v: {:.4f}, train_acc:{:.4f}, val_acc:{:.4f}'.format(epoch, totalLoss/len(trainDL), val_loss/len(valDL),\n",
    "                                                                                                   100.*trainAccuracy,100.*valAccuracy))\n",
    "\n",
    "        path = \"./models_CNN/chb4/model_best_\"+str(epoch)+\"_\"+str(i)+\"_\"+str(100.*valAccuracy) \n",
    "        if valAccuracy>best_acc:\n",
    "            best_acc = valAccuracy\n",
    "            model_to_save = model\n",
    "            path_to_save = path\n",
    "        tL.append(totalLoss/len(trainDL))\n",
    "        vL.append(val_loss/len(valDL))\n",
    "        tAV.append(100.*trainAccuracy)\n",
    "        vAV.append( 100.*valAccuracy)\n",
    "    torch.save(model_to_save.state_dict(), path_to_save)\n",
    "    trainLoss[str(i)] = tL\n",
    "    valLoss[str(i)] = vL\n",
    "    trainAcc[str(i)] = tAV\n",
    "    valAcc[str(i)] = vAV\n",
    "tL = np.array(list(trainLoss.values()))\n",
    "vL = np.array(list(valLoss.values()))\n",
    "tAV = np.array(list(trainAcc.values()))\n",
    "vAV = np.array(list(valAcc.values()))"
   ]
  },
  {
   "cell_type": "code",
   "execution_count": 34,
   "metadata": {},
   "outputs": [
    {
     "name": "stdout",
     "output_type": "stream",
     "text": [
      "0\n"
     ]
    },
    {
     "name": "stderr",
     "output_type": "stream",
     "text": [
      "100%|██████████| 3598/3598 [00:01<00:00, 2452.34batch/s]\n"
     ]
    },
    {
     "name": "stdout",
     "output_type": "stream",
     "text": [
      "26\n"
     ]
    },
    {
     "name": "stderr",
     "output_type": "stream",
     "text": [
      "100%|██████████| 3600/3600 [00:01<00:00, 2445.95batch/s]\n"
     ]
    },
    {
     "name": "stdout",
     "output_type": "stream",
     "text": [
      "21\n"
     ]
    },
    {
     "name": "stderr",
     "output_type": "stream",
     "text": [
      "100%|██████████| 3600/3600 [00:01<00:00, 2465.96batch/s]\n"
     ]
    },
    {
     "name": "stdout",
     "output_type": "stream",
     "text": [
      "15\n"
     ]
    },
    {
     "name": "stderr",
     "output_type": "stream",
     "text": [
      "100%|██████████| 3600/3600 [00:01<00:00, 2479.96batch/s]\n"
     ]
    },
    {
     "name": "stdout",
     "output_type": "stream",
     "text": [
      "34\n"
     ]
    },
    {
     "name": "stderr",
     "output_type": "stream",
     "text": [
      "100%|██████████| 2859/2859 [00:01<00:00, 2422.94batch/s]\n"
     ]
    },
    {
     "name": "stdout",
     "output_type": "stream",
     "text": [
      "10\n"
     ]
    },
    {
     "name": "stderr",
     "output_type": "stream",
     "text": [
      "100%|██████████| 3600/3600 [00:01<00:00, 2458.08batch/s]\n"
     ]
    },
    {
     "name": "stdout",
     "output_type": "stream",
     "text": [
      "1\n"
     ]
    },
    {
     "name": "stderr",
     "output_type": "stream",
     "text": [
      "100%|██████████| 3600/3600 [00:01<00:00, 2465.47batch/s]\n"
     ]
    },
    {
     "name": "stdout",
     "output_type": "stream",
     "text": [
      "7\n"
     ]
    },
    {
     "name": "stderr",
     "output_type": "stream",
     "text": [
      "100%|██████████| 3600/3600 [00:01<00:00, 2460.79batch/s]\n"
     ]
    },
    {
     "name": "stdout",
     "output_type": "stream",
     "text": [
      "4\n"
     ]
    },
    {
     "name": "stderr",
     "output_type": "stream",
     "text": [
      "100%|██████████| 3600/3600 [00:01<00:00, 2443.77batch/s]\n"
     ]
    },
    {
     "name": "stdout",
     "output_type": "stream",
     "text": [
      "29\n"
     ]
    },
    {
     "name": "stderr",
     "output_type": "stream",
     "text": [
      "100%|██████████| 3600/3600 [00:01<00:00, 2416.89batch/s]\n"
     ]
    },
    {
     "name": "stdout",
     "output_type": "stream",
     "text": [
      "2\n"
     ]
    },
    {
     "name": "stderr",
     "output_type": "stream",
     "text": [
      "100%|██████████| 3600/3600 [00:02<00:00, 1617.83batch/s]\n"
     ]
    },
    {
     "name": "stdout",
     "output_type": "stream",
     "text": [
      "9\n"
     ]
    },
    {
     "name": "stderr",
     "output_type": "stream",
     "text": [
      "100%|██████████| 3600/3600 [00:01<00:00, 2430.20batch/s]\n"
     ]
    },
    {
     "name": "stdout",
     "output_type": "stream",
     "text": [
      "28\n"
     ]
    },
    {
     "name": "stderr",
     "output_type": "stream",
     "text": [
      "100%|██████████| 3600/3600 [00:01<00:00, 2434.34batch/s]\n"
     ]
    },
    {
     "name": "stdout",
     "output_type": "stream",
     "text": [
      "20\n"
     ]
    },
    {
     "name": "stderr",
     "output_type": "stream",
     "text": [
      "100%|██████████| 3600/3600 [00:01<00:00, 2446.17batch/s]\n"
     ]
    },
    {
     "name": "stdout",
     "output_type": "stream",
     "text": [
      "11\n"
     ]
    },
    {
     "name": "stderr",
     "output_type": "stream",
     "text": [
      "100%|██████████| 3600/3600 [00:01<00:00, 2449.05batch/s]\n"
     ]
    },
    {
     "name": "stdout",
     "output_type": "stream",
     "text": [
      "18\n"
     ]
    },
    {
     "name": "stderr",
     "output_type": "stream",
     "text": [
      "100%|██████████| 3600/3600 [00:01<00:00, 2451.03batch/s]\n"
     ]
    },
    {
     "name": "stdout",
     "output_type": "stream",
     "text": [
      "16\n"
     ]
    },
    {
     "name": "stderr",
     "output_type": "stream",
     "text": [
      "100%|██████████| 3600/3600 [00:01<00:00, 2447.86batch/s]\n"
     ]
    },
    {
     "name": "stdout",
     "output_type": "stream",
     "text": [
      "23\n"
     ]
    },
    {
     "name": "stderr",
     "output_type": "stream",
     "text": [
      "100%|██████████| 3600/3600 [00:01<00:00, 2438.05batch/s]\n"
     ]
    },
    {
     "name": "stdout",
     "output_type": "stream",
     "text": [
      "17\n"
     ]
    },
    {
     "name": "stderr",
     "output_type": "stream",
     "text": [
      "100%|██████████| 3600/3600 [00:01<00:00, 2457.65batch/s]\n"
     ]
    },
    {
     "name": "stdout",
     "output_type": "stream",
     "text": [
      "27\n"
     ]
    },
    {
     "name": "stderr",
     "output_type": "stream",
     "text": [
      "100%|██████████| 3600/3600 [00:01<00:00, 2553.35batch/s]\n"
     ]
    },
    {
     "name": "stdout",
     "output_type": "stream",
     "text": [
      "32\n"
     ]
    },
    {
     "name": "stderr",
     "output_type": "stream",
     "text": [
      "100%|██████████| 3600/3600 [00:01<00:00, 2470.73batch/s]\n"
     ]
    },
    {
     "name": "stdout",
     "output_type": "stream",
     "text": [
      "22\n"
     ]
    },
    {
     "name": "stderr",
     "output_type": "stream",
     "text": [
      "100%|██████████| 3600/3600 [00:01<00:00, 2447.69batch/s]\n"
     ]
    },
    {
     "name": "stdout",
     "output_type": "stream",
     "text": [
      "30\n"
     ]
    },
    {
     "name": "stderr",
     "output_type": "stream",
     "text": [
      "100%|██████████| 3600/3600 [00:01<00:00, 2482.51batch/s]\n"
     ]
    },
    {
     "name": "stdout",
     "output_type": "stream",
     "text": [
      "31\n"
     ]
    },
    {
     "name": "stderr",
     "output_type": "stream",
     "text": [
      "100%|██████████| 3600/3600 [00:01<00:00, 2491.59batch/s]\n"
     ]
    },
    {
     "name": "stdout",
     "output_type": "stream",
     "text": [
      "6\n"
     ]
    },
    {
     "name": "stderr",
     "output_type": "stream",
     "text": [
      "100%|██████████| 3600/3600 [00:01<00:00, 2485.54batch/s]\n"
     ]
    },
    {
     "name": "stdout",
     "output_type": "stream",
     "text": [
      "19\n"
     ]
    },
    {
     "name": "stderr",
     "output_type": "stream",
     "text": [
      "100%|██████████| 3600/3600 [00:01<00:00, 2506.12batch/s]\n"
     ]
    },
    {
     "name": "stdout",
     "output_type": "stream",
     "text": [
      "25\n"
     ]
    },
    {
     "name": "stderr",
     "output_type": "stream",
     "text": [
      "100%|██████████| 3600/3600 [00:01<00:00, 2540.18batch/s]\n"
     ]
    },
    {
     "name": "stdout",
     "output_type": "stream",
     "text": [
      "3\n"
     ]
    },
    {
     "name": "stderr",
     "output_type": "stream",
     "text": [
      "100%|██████████| 3600/3600 [00:01<00:00, 2516.12batch/s]\n"
     ]
    },
    {
     "name": "stdout",
     "output_type": "stream",
     "text": [
      "33\n"
     ]
    },
    {
     "name": "stderr",
     "output_type": "stream",
     "text": [
      "100%|██████████| 3600/3600 [00:01<00:00, 2439.41batch/s]\n"
     ]
    },
    {
     "name": "stdout",
     "output_type": "stream",
     "text": [
      "5\n"
     ]
    },
    {
     "name": "stderr",
     "output_type": "stream",
     "text": [
      "100%|██████████| 3600/3600 [00:01<00:00, 2477.33batch/s]\n"
     ]
    },
    {
     "name": "stdout",
     "output_type": "stream",
     "text": [
      "13\n"
     ]
    },
    {
     "name": "stderr",
     "output_type": "stream",
     "text": [
      "100%|██████████| 3600/3600 [00:01<00:00, 2460.26batch/s]\n"
     ]
    },
    {
     "name": "stdout",
     "output_type": "stream",
     "text": [
      "8\n"
     ]
    },
    {
     "name": "stderr",
     "output_type": "stream",
     "text": [
      "100%|██████████| 3600/3600 [00:01<00:00, 2470.32batch/s]\n"
     ]
    },
    {
     "name": "stdout",
     "output_type": "stream",
     "text": [
      "24\n"
     ]
    },
    {
     "name": "stderr",
     "output_type": "stream",
     "text": [
      "100%|██████████| 3600/3600 [00:01<00:00, 2463.31batch/s]\n"
     ]
    },
    {
     "name": "stdout",
     "output_type": "stream",
     "text": [
      "12\n"
     ]
    },
    {
     "name": "stderr",
     "output_type": "stream",
     "text": [
      "100%|██████████| 3600/3600 [00:01<00:00, 2352.98batch/s]\n"
     ]
    },
    {
     "name": "stdout",
     "output_type": "stream",
     "text": [
      "14\n"
     ]
    },
    {
     "name": "stderr",
     "output_type": "stream",
     "text": [
      "100%|██████████| 3600/3600 [00:01<00:00, 2453.51batch/s]\n"
     ]
    }
   ],
   "source": [
    "import os\n",
    "\n",
    "X = list(final_data.values())\n",
    "y = list(l.values())\n",
    "device = torch.device(\"cuda\" if torch.cuda.is_available() else \"cpu\")\n",
    "\n",
    "predicted_val = {}\n",
    "target_val = {}\n",
    "for file in os.listdir('./models_CNN/chb4/'):\n",
    "    pred_val = []\n",
    "    gt_val = []\n",
    "    print(file.split('_')[3])\n",
    "    index = int(file.split('_')[3])\n",
    "    X_test = X[index]\n",
    "    y_test = y[index]\n",
    "    model = EEGNet(chunk_size=256,num_electrodes=18,num_classes=2)\n",
    "    model.load_state_dict(torch.load('./models_CNN/chb4/'+file))\n",
    "    model = model.to(device)\n",
    "    y_t = np.zeros((X_test.shape[0],2))\n",
    "    y_t[np.where(y_test[:,0] == 1)] = [0,1]\n",
    "    y_t[np.where(y_test[:,0] == 0)] = [1,0]\n",
    "    y_test = y_t\n",
    "    testDS = Dataset(X_test, y_test)\n",
    "    testDL = DataLoader(dataset = testDS, batch_size = 1)\n",
    "    model.eval()\n",
    "    with torch.no_grad():\n",
    "        with tqdm(testDL, unit='batch') as tepoch:\n",
    "            for imagesv,labv in tepoch:\n",
    "                imagesv = imagesv.to(device)\n",
    "                labelsv = labv.to(device)\n",
    "                outval = (model(imagesv.float()))\n",
    "                _,predindexval = torch.max(outval,dim = 1)\n",
    "                _,labvalindex = torch.max(labelsv,dim = 1)\n",
    "                pred_val.append(predindexval)\n",
    "                gt_val.append(labvalindex)\n",
    "    pred_val = torch.concat(pred_val)\n",
    "    pred_val = pred_val.cpu().numpy()\n",
    "    predicted_val[str(index)] = pred_val\n",
    "    gt_val = torch.concat(gt_val)\n",
    "    gt_val = gt_val.cpu().numpy()\n",
    "    target_val[str(index)] = gt_val"
   ]
  },
  {
   "cell_type": "code",
   "execution_count": 35,
   "metadata": {},
   "outputs": [],
   "source": [
    "from sklearn.metrics import f1_score\n",
    "\n",
    "gt = np.concatenate(list(target_val.values()))\n",
    "pred = np.concatenate(list(predicted_val.values()))\n",
    "\n",
    "score = f1_score(gt,pred)"
   ]
  },
  {
   "cell_type": "code",
   "execution_count": 36,
   "metadata": {},
   "outputs": [
    {
     "name": "stdout",
     "output_type": "stream",
     "text": [
      "F1_score: 0.8717339667458432\n"
     ]
    }
   ],
   "source": [
    "print('F1_score:',score)"
   ]
  },
  {
   "cell_type": "code",
   "execution_count": 37,
   "metadata": {},
   "outputs": [
    {
     "data": {
      "text/plain": [
       "dict_keys(['0', '26', '21', '15', '34', '10', '1', '7', '4', '29', '2', '9', '28', '20', '11', '18', '16', '23', '17', '27', '32', '22', '30', '31', '6', '19', '25', '3', '33', '5', '13', '8', '24', '12', '14'])"
      ]
     },
     "execution_count": 37,
     "metadata": {},
     "output_type": "execute_result"
    }
   ],
   "source": [
    "predicted_val.keys()"
   ]
  },
  {
   "cell_type": "code",
   "execution_count": 38,
   "metadata": {},
   "outputs": [],
   "source": [
    "import pandas as pd\n",
    "\n",
    "df = pd.DataFrame()\n",
    "\n",
    "max_length = max(len(predicted_val[str(i)]) for i in range(len(predicted_val.keys())))\n",
    "df['S.No'] = range(1, max_length + 1)\n",
    "\n",
    "fk = list(final_data.keys())\n",
    "for i in range(len(list(predicted_val.keys()))):\n",
    "    k = fk[i]\n",
    "    data = predicted_val[str(i)]\n",
    "    df[k] = pd.Series(data)\n",
    "\n",
    "df.to_csv('./predictions/prediction_chb_04.csv', index=False)\n"
   ]
  }
 ],
 "metadata": {
  "kernelspec": {
   "display_name": "eegtransforms",
   "language": "python",
   "name": "python3"
  },
  "language_info": {
   "codemirror_mode": {
    "name": "ipython",
    "version": 3
   },
   "file_extension": ".py",
   "mimetype": "text/x-python",
   "name": "python",
   "nbconvert_exporter": "python",
   "pygments_lexer": "ipython3",
   "version": "3.10.14"
  }
 },
 "nbformat": 4,
 "nbformat_minor": 2
}
