{
 "cells": [
  {
   "cell_type": "code",
   "execution_count": 210,
   "metadata": {},
   "outputs": [],
   "source": [
    "import numpy as np\n",
    "import pandas as pd\n",
    "import os"
   ]
  },
  {
   "cell_type": "code",
   "execution_count": 211,
   "metadata": {},
   "outputs": [],
   "source": [
    "filepath = './ScoreNet-master/cnn_result/chb_03/'"
   ]
  },
  {
   "cell_type": "code",
   "execution_count": 212,
   "metadata": {},
   "outputs": [
    {
     "name": "stdout",
     "output_type": "stream",
     "text": [
      "Skipped result-onoff-chb_03_logdl_13.csv\n",
      "Skipped result-onoff-chb_03_logdl_22.csv\n",
      "Skipped result-onoff-chb_03_logdl_25.csv\n",
      "Skipped result-onoff-chb_03_logdl_32.csv\n",
      "Skipped result-onoff-chb_03_logdl_9.csv\n",
      "Skipped result-onoff-chb_03_logdl_29.csv\n",
      "Skipped result-onoff-chb_03_logdl_14.csv\n",
      "Skipped result-onoff-chb_03_logdl_15.csv\n",
      "Skipped result-onoff-chb_03_logdl_16.csv\n",
      "Skipped result-onoff-chb_03_logdl_33.csv\n",
      "Skipped result-onoff-chb_03_logdl_20.csv\n",
      "Skipped result-onoff-chb_03_logdl_17.csv\n",
      "Skipped result-onoff-chb_03_logdl_12.csv\n",
      "Skipped result-onoff-chb_03_logdl_38.csv\n",
      "Skipped result-onoff-chb_03_logdl_31.csv\n",
      "Skipped result-onoff-chb_03_logdl_26.csv\n",
      "Skipped result-onoff-chb_03_logdl_23.csv\n",
      "Skipped result-onoff-chb_03_logdl_30.csv\n",
      "Skipped result-onoff-chb_03_logdl_7.csv\n",
      "Skipped result-onoff-chb_03_logdl_27.csv\n",
      "Skipped result-onoff-chb_03_logdl_24.csv\n",
      "Skipped result-onoff-chb_03_logdl_8.csv\n",
      "Skipped result-onoff-chb_03_logdl_28.csv\n",
      "Skipped result-onoff-chb_03_logdl_19.csv\n",
      "Skipped result-onoff-chb_03_logdl_6.csv\n",
      "Skipped result-onoff-chb_03_logdl_5.csv\n",
      "Skipped result-onoff-chb_03_logdl_11.csv\n",
      "Skipped result-onoff-chb_03_logdl_21.csv\n",
      "Skipped result-onoff-chb_03_logdl_10.csv\n",
      "Skipped result-onoff-chb_03_logdl_37.csv\n",
      "Skipped result-onoff-chb_03_logdl_18.csv\n"
     ]
    }
   ],
   "source": [
    "b = {}\n",
    "a = {}\n",
    "tp_b = 0\n",
    "fp_b = 0\n",
    "fn_b = 0\n",
    "tp_a = 0\n",
    "fp_a = 0\n",
    "fn_a = 0\n",
    "onset = {}\n",
    "offset = {}\n",
    "absonset = {}\n",
    "absoffset = {}\n",
    "for file in os.listdir(filepath):\n",
    "    if file.endswith('.csv'):\n",
    "            df = pd.read_csv(filepath+file)\n",
    "            tp_b  += df['tp'][2]\n",
    "            tp_a  += df['tp'][3]\n",
    "            fp_b  += df['fp'][2]\n",
    "            fp_a  += df['fp'][3]\n",
    "            fn_b  += df['fn'][2]\n",
    "            fn_a  += df['fn'][3]\n",
    "            if df['tp'][3] + df['fn'][3] > 0:\n",
    "                onset[str(file[13:])] = df['onlat'][3]\n",
    "                offset[str(file[13:])] = df['offlat'][3]\n",
    "                absonset[str(file[13:])] = df['ab_onlat'][3]\n",
    "                absoffset[str(file[13:])] = df['ab_offlat'][3]\n",
    "            else:\n",
    "                print('Skipped', file)\n",
    "        "
   ]
  },
  {
   "cell_type": "code",
   "execution_count": 213,
   "metadata": {},
   "outputs": [],
   "source": [
    "onset = np.array(list(onset.values()))\n",
    "onset[np.where(np.isnan(onset))] = 0\n",
    "\n",
    "offset = np.array(list(offset.values()))\n",
    "offset[np.where(np.isnan(offset))] = 0\n",
    "\n",
    "absonset = np.array(list(absonset.values()))\n",
    "absonset[np.where(np.isnan(absonset))] = 0\n",
    "\n",
    "absoffset = np.array(list(absoffset.values()))\n",
    "absoffset[np.where(np.isnan(absoffset))] = 0"
   ]
  },
  {
   "cell_type": "code",
   "execution_count": 214,
   "metadata": {},
   "outputs": [],
   "source": [
    "pre_a = tp_a/(tp_a+fp_a)\n",
    "rec_a = tp_a/(tp_a+fn_a)\n",
    "\n",
    "F1_score = 2*(pre_a*rec_a)/(pre_a+rec_a)"
   ]
  },
  {
   "cell_type": "code",
   "execution_count": 215,
   "metadata": {},
   "outputs": [
    {
     "name": "stdout",
     "output_type": "stream",
     "text": [
      "Specificity: 0.7894736842105263 Sensitivity: 0.8801955990220048 F1_score: 0.8323699421965319\n"
     ]
    }
   ],
   "source": [
    "print('Specificity:',pre_a,'Sensitivity:',rec_a,'F1_score:',F1_score)"
   ]
  },
  {
   "cell_type": "code",
   "execution_count": 216,
   "metadata": {},
   "outputs": [
    {
     "data": {
      "text/plain": [
       "(-1.0, 0.0)"
      ]
     },
     "execution_count": 216,
     "metadata": {},
     "output_type": "execute_result"
    }
   ],
   "source": [
    "np.min(onset),np.max(onset)"
   ]
  },
  {
   "cell_type": "code",
   "execution_count": 217,
   "metadata": {},
   "outputs": [
    {
     "data": {
      "text/plain": [
       "(-1.0, 17.0)"
      ]
     },
     "execution_count": 217,
     "metadata": {},
     "output_type": "execute_result"
    }
   ],
   "source": [
    "np.min(offset),np.max(offset)"
   ]
  },
  {
   "cell_type": "code",
   "execution_count": 218,
   "metadata": {},
   "outputs": [
    {
     "data": {
      "text/plain": [
       "(0.42857142857142855, 0.0, 1.0)"
      ]
     },
     "execution_count": 218,
     "metadata": {},
     "output_type": "execute_result"
    }
   ],
   "source": [
    "np.mean(absonset), np.min(absonset), np.max(absonset)"
   ]
  },
  {
   "cell_type": "code",
   "execution_count": 219,
   "metadata": {},
   "outputs": [
    {
     "data": {
      "text/plain": [
       "(5.571428571428571, 0.0, 17.0)"
      ]
     },
     "execution_count": 219,
     "metadata": {},
     "output_type": "execute_result"
    }
   ],
   "source": [
    "np.mean(absoffset), np.min(absoffset), np.max(absoffset)"
   ]
  }
 ],
 "metadata": {
  "kernelspec": {
   "display_name": "eegtransforms",
   "language": "python",
   "name": "python3"
  },
  "language_info": {
   "codemirror_mode": {
    "name": "ipython",
    "version": 3
   },
   "file_extension": ".py",
   "mimetype": "text/x-python",
   "name": "python",
   "nbconvert_exporter": "python",
   "pygments_lexer": "ipython3",
   "version": "3.10.14"
  }
 },
 "nbformat": 4,
 "nbformat_minor": 2
}
